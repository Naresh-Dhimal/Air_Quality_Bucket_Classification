{
 "cells": [
  {
   "cell_type": "markdown",
   "metadata": {},
   "source": [
    "# Importing Importance libraries"
   ]
  },
  {
   "cell_type": "code",
   "execution_count": 1,
   "metadata": {},
   "outputs": [],
   "source": [
    "# Import the necessary modules\n",
    "import pandas as pd\n",
    "import numpy as np\n",
    "import matplotlib.pyplot as plt\n",
    "import seaborn as sns\n",
    "from ipywidgets import interact\n"
   ]
  },
  {
   "cell_type": "markdown",
   "metadata": {},
   "source": [
    "# Loading dataset"
   ]
  },
  {
   "cell_type": "code",
   "execution_count": 2,
   "metadata": {},
   "outputs": [
    {
     "data": {
      "text/html": [
       "<div>\n",
       "<style scoped>\n",
       "    .dataframe tbody tr th:only-of-type {\n",
       "        vertical-align: middle;\n",
       "    }\n",
       "\n",
       "    .dataframe tbody tr th {\n",
       "        vertical-align: top;\n",
       "    }\n",
       "\n",
       "    .dataframe thead th {\n",
       "        text-align: right;\n",
       "    }\n",
       "</style>\n",
       "<table border=\"1\" class=\"dataframe\">\n",
       "  <thead>\n",
       "    <tr style=\"text-align: right;\">\n",
       "      <th></th>\n",
       "      <th>PM2.5</th>\n",
       "      <th>PM10</th>\n",
       "      <th>NO</th>\n",
       "      <th>NO2</th>\n",
       "      <th>NOx</th>\n",
       "      <th>NH3</th>\n",
       "      <th>CO</th>\n",
       "      <th>SO2</th>\n",
       "      <th>O3</th>\n",
       "      <th>Benzene</th>\n",
       "      <th>...</th>\n",
       "      <th>Jorapokhar</th>\n",
       "      <th>Kochi</th>\n",
       "      <th>Kolkata</th>\n",
       "      <th>Lucknow</th>\n",
       "      <th>Mumbai</th>\n",
       "      <th>Patna</th>\n",
       "      <th>Shillong</th>\n",
       "      <th>Talcher</th>\n",
       "      <th>Thiruvananthapuram</th>\n",
       "      <th>Visakhapatnam</th>\n",
       "    </tr>\n",
       "  </thead>\n",
       "  <tbody>\n",
       "    <tr>\n",
       "      <th>0</th>\n",
       "      <td>78.2</td>\n",
       "      <td>90.85</td>\n",
       "      <td>1.37</td>\n",
       "      <td>40.01</td>\n",
       "      <td>36.37</td>\n",
       "      <td>19.52</td>\n",
       "      <td>1.00</td>\n",
       "      <td>122.07</td>\n",
       "      <td>37.71</td>\n",
       "      <td>0.0</td>\n",
       "      <td>...</td>\n",
       "      <td>0.0</td>\n",
       "      <td>0.0</td>\n",
       "      <td>0.0</td>\n",
       "      <td>0.0</td>\n",
       "      <td>0.0</td>\n",
       "      <td>0.0</td>\n",
       "      <td>0.0</td>\n",
       "      <td>0.0</td>\n",
       "      <td>0.0</td>\n",
       "      <td>0.0</td>\n",
       "    </tr>\n",
       "    <tr>\n",
       "      <th>1</th>\n",
       "      <td>78.2</td>\n",
       "      <td>90.85</td>\n",
       "      <td>1.37</td>\n",
       "      <td>27.75</td>\n",
       "      <td>19.73</td>\n",
       "      <td>19.52</td>\n",
       "      <td>0.02</td>\n",
       "      <td>85.90</td>\n",
       "      <td>37.71</td>\n",
       "      <td>0.0</td>\n",
       "      <td>...</td>\n",
       "      <td>0.0</td>\n",
       "      <td>0.0</td>\n",
       "      <td>0.0</td>\n",
       "      <td>0.0</td>\n",
       "      <td>0.0</td>\n",
       "      <td>0.0</td>\n",
       "      <td>0.0</td>\n",
       "      <td>0.0</td>\n",
       "      <td>0.0</td>\n",
       "      <td>0.0</td>\n",
       "    </tr>\n",
       "    <tr>\n",
       "      <th>2</th>\n",
       "      <td>78.2</td>\n",
       "      <td>90.85</td>\n",
       "      <td>1.37</td>\n",
       "      <td>19.32</td>\n",
       "      <td>11.08</td>\n",
       "      <td>19.52</td>\n",
       "      <td>0.08</td>\n",
       "      <td>52.83</td>\n",
       "      <td>37.71</td>\n",
       "      <td>0.0</td>\n",
       "      <td>...</td>\n",
       "      <td>0.0</td>\n",
       "      <td>0.0</td>\n",
       "      <td>0.0</td>\n",
       "      <td>0.0</td>\n",
       "      <td>0.0</td>\n",
       "      <td>0.0</td>\n",
       "      <td>0.0</td>\n",
       "      <td>0.0</td>\n",
       "      <td>0.0</td>\n",
       "      <td>0.0</td>\n",
       "    </tr>\n",
       "  </tbody>\n",
       "</table>\n",
       "<p>3 rows × 42 columns</p>\n",
       "</div>"
      ],
      "text/plain": [
       "   PM2.5   PM10    NO    NO2    NOx    NH3    CO     SO2     O3  Benzene  ...  \\\n",
       "0   78.2  90.85  1.37  40.01  36.37  19.52  1.00  122.07  37.71      0.0  ...   \n",
       "1   78.2  90.85  1.37  27.75  19.73  19.52  0.02   85.90  37.71      0.0  ...   \n",
       "2   78.2  90.85  1.37  19.32  11.08  19.52  0.08   52.83  37.71      0.0  ...   \n",
       "\n",
       "   Jorapokhar  Kochi  Kolkata Lucknow  Mumbai  Patna  Shillong  Talcher  \\\n",
       "0         0.0    0.0      0.0     0.0     0.0    0.0       0.0      0.0   \n",
       "1         0.0    0.0      0.0     0.0     0.0    0.0       0.0      0.0   \n",
       "2         0.0    0.0      0.0     0.0     0.0    0.0       0.0      0.0   \n",
       "\n",
       "   Thiruvananthapuram  Visakhapatnam  \n",
       "0                 0.0            0.0  \n",
       "1                 0.0            0.0  \n",
       "2                 0.0            0.0  \n",
       "\n",
       "[3 rows x 42 columns]"
      ]
     },
     "execution_count": 2,
     "metadata": {},
     "output_type": "execute_result"
    }
   ],
   "source": [
    "\n",
    "# importing dataset and converting data into pandas dataframe\n",
    "df = pd.read_csv(\"../data/clean_Aqi_dataset.csv\")\n",
    "df.head(3)"
   ]
  },
  {
   "cell_type": "markdown",
   "metadata": {},
   "source": [
    "# To see all columns"
   ]
  },
  {
   "cell_type": "code",
   "execution_count": 3,
   "metadata": {},
   "outputs": [
    {
     "data": {
      "text/html": [
       "<div>\n",
       "<style scoped>\n",
       "    .dataframe tbody tr th:only-of-type {\n",
       "        vertical-align: middle;\n",
       "    }\n",
       "\n",
       "    .dataframe tbody tr th {\n",
       "        vertical-align: top;\n",
       "    }\n",
       "\n",
       "    .dataframe thead th {\n",
       "        text-align: right;\n",
       "    }\n",
       "</style>\n",
       "<table border=\"1\" class=\"dataframe\">\n",
       "  <thead>\n",
       "    <tr style=\"text-align: right;\">\n",
       "      <th></th>\n",
       "      <th>PM2.5</th>\n",
       "      <th>PM10</th>\n",
       "      <th>NO</th>\n",
       "      <th>NO2</th>\n",
       "      <th>NOx</th>\n",
       "      <th>NH3</th>\n",
       "      <th>CO</th>\n",
       "      <th>SO2</th>\n",
       "      <th>O3</th>\n",
       "      <th>Benzene</th>\n",
       "      <th>Toluene</th>\n",
       "      <th>Xylene</th>\n",
       "      <th>AQI</th>\n",
       "      <th>AQI_Bucket</th>\n",
       "      <th>Year</th>\n",
       "      <th>Month</th>\n",
       "      <th>Ahmedabad</th>\n",
       "      <th>Aizawl</th>\n",
       "      <th>Amaravati</th>\n",
       "      <th>Amritsar</th>\n",
       "      <th>Bengaluru</th>\n",
       "      <th>Bhopal</th>\n",
       "      <th>Brajrajnagar</th>\n",
       "      <th>Chandigarh</th>\n",
       "      <th>Chennai</th>\n",
       "      <th>Coimbatore</th>\n",
       "      <th>Delhi</th>\n",
       "      <th>Ernakulam</th>\n",
       "      <th>Gurugram</th>\n",
       "      <th>Guwahati</th>\n",
       "      <th>Hyderabad</th>\n",
       "      <th>Jaipur</th>\n",
       "      <th>Jorapokhar</th>\n",
       "      <th>Kochi</th>\n",
       "      <th>Kolkata</th>\n",
       "      <th>Lucknow</th>\n",
       "      <th>Mumbai</th>\n",
       "      <th>Patna</th>\n",
       "      <th>Shillong</th>\n",
       "      <th>Talcher</th>\n",
       "      <th>Thiruvananthapuram</th>\n",
       "      <th>Visakhapatnam</th>\n",
       "    </tr>\n",
       "  </thead>\n",
       "  <tbody>\n",
       "    <tr>\n",
       "      <th>0</th>\n",
       "      <td>78.2</td>\n",
       "      <td>90.85</td>\n",
       "      <td>1.37</td>\n",
       "      <td>40.01</td>\n",
       "      <td>36.37</td>\n",
       "      <td>19.52</td>\n",
       "      <td>1.00</td>\n",
       "      <td>122.07</td>\n",
       "      <td>37.71</td>\n",
       "      <td>0.0</td>\n",
       "      <td>0.0</td>\n",
       "      <td>0.0</td>\n",
       "      <td>267.0</td>\n",
       "      <td>Moderate</td>\n",
       "      <td>2015</td>\n",
       "      <td>1</td>\n",
       "      <td>1.0</td>\n",
       "      <td>0.0</td>\n",
       "      <td>0.0</td>\n",
       "      <td>0.0</td>\n",
       "      <td>0.0</td>\n",
       "      <td>0.0</td>\n",
       "      <td>0.0</td>\n",
       "      <td>0.0</td>\n",
       "      <td>0.0</td>\n",
       "      <td>0.0</td>\n",
       "      <td>0.0</td>\n",
       "      <td>0.0</td>\n",
       "      <td>0.0</td>\n",
       "      <td>0.0</td>\n",
       "      <td>0.0</td>\n",
       "      <td>0.0</td>\n",
       "      <td>0.0</td>\n",
       "      <td>0.0</td>\n",
       "      <td>0.0</td>\n",
       "      <td>0.0</td>\n",
       "      <td>0.0</td>\n",
       "      <td>0.0</td>\n",
       "      <td>0.0</td>\n",
       "      <td>0.0</td>\n",
       "      <td>0.0</td>\n",
       "      <td>0.0</td>\n",
       "    </tr>\n",
       "    <tr>\n",
       "      <th>1</th>\n",
       "      <td>78.2</td>\n",
       "      <td>90.85</td>\n",
       "      <td>1.37</td>\n",
       "      <td>27.75</td>\n",
       "      <td>19.73</td>\n",
       "      <td>19.52</td>\n",
       "      <td>0.02</td>\n",
       "      <td>85.90</td>\n",
       "      <td>37.71</td>\n",
       "      <td>0.0</td>\n",
       "      <td>0.0</td>\n",
       "      <td>0.0</td>\n",
       "      <td>267.0</td>\n",
       "      <td>Moderate</td>\n",
       "      <td>2015</td>\n",
       "      <td>1</td>\n",
       "      <td>1.0</td>\n",
       "      <td>0.0</td>\n",
       "      <td>0.0</td>\n",
       "      <td>0.0</td>\n",
       "      <td>0.0</td>\n",
       "      <td>0.0</td>\n",
       "      <td>0.0</td>\n",
       "      <td>0.0</td>\n",
       "      <td>0.0</td>\n",
       "      <td>0.0</td>\n",
       "      <td>0.0</td>\n",
       "      <td>0.0</td>\n",
       "      <td>0.0</td>\n",
       "      <td>0.0</td>\n",
       "      <td>0.0</td>\n",
       "      <td>0.0</td>\n",
       "      <td>0.0</td>\n",
       "      <td>0.0</td>\n",
       "      <td>0.0</td>\n",
       "      <td>0.0</td>\n",
       "      <td>0.0</td>\n",
       "      <td>0.0</td>\n",
       "      <td>0.0</td>\n",
       "      <td>0.0</td>\n",
       "      <td>0.0</td>\n",
       "      <td>0.0</td>\n",
       "    </tr>\n",
       "    <tr>\n",
       "      <th>2</th>\n",
       "      <td>78.2</td>\n",
       "      <td>90.85</td>\n",
       "      <td>1.37</td>\n",
       "      <td>19.32</td>\n",
       "      <td>11.08</td>\n",
       "      <td>19.52</td>\n",
       "      <td>0.08</td>\n",
       "      <td>52.83</td>\n",
       "      <td>37.71</td>\n",
       "      <td>0.0</td>\n",
       "      <td>0.0</td>\n",
       "      <td>0.0</td>\n",
       "      <td>267.0</td>\n",
       "      <td>Moderate</td>\n",
       "      <td>2015</td>\n",
       "      <td>1</td>\n",
       "      <td>1.0</td>\n",
       "      <td>0.0</td>\n",
       "      <td>0.0</td>\n",
       "      <td>0.0</td>\n",
       "      <td>0.0</td>\n",
       "      <td>0.0</td>\n",
       "      <td>0.0</td>\n",
       "      <td>0.0</td>\n",
       "      <td>0.0</td>\n",
       "      <td>0.0</td>\n",
       "      <td>0.0</td>\n",
       "      <td>0.0</td>\n",
       "      <td>0.0</td>\n",
       "      <td>0.0</td>\n",
       "      <td>0.0</td>\n",
       "      <td>0.0</td>\n",
       "      <td>0.0</td>\n",
       "      <td>0.0</td>\n",
       "      <td>0.0</td>\n",
       "      <td>0.0</td>\n",
       "      <td>0.0</td>\n",
       "      <td>0.0</td>\n",
       "      <td>0.0</td>\n",
       "      <td>0.0</td>\n",
       "      <td>0.0</td>\n",
       "      <td>0.0</td>\n",
       "    </tr>\n",
       "  </tbody>\n",
       "</table>\n",
       "</div>"
      ],
      "text/plain": [
       "   PM2.5   PM10    NO    NO2    NOx    NH3    CO     SO2     O3  Benzene  \\\n",
       "0   78.2  90.85  1.37  40.01  36.37  19.52  1.00  122.07  37.71      0.0   \n",
       "1   78.2  90.85  1.37  27.75  19.73  19.52  0.02   85.90  37.71      0.0   \n",
       "2   78.2  90.85  1.37  19.32  11.08  19.52  0.08   52.83  37.71      0.0   \n",
       "\n",
       "   Toluene  Xylene    AQI AQI_Bucket  Year  Month  Ahmedabad  Aizawl  \\\n",
       "0      0.0     0.0  267.0   Moderate  2015      1        1.0     0.0   \n",
       "1      0.0     0.0  267.0   Moderate  2015      1        1.0     0.0   \n",
       "2      0.0     0.0  267.0   Moderate  2015      1        1.0     0.0   \n",
       "\n",
       "   Amaravati  Amritsar  Bengaluru  Bhopal  Brajrajnagar  Chandigarh  Chennai  \\\n",
       "0        0.0       0.0        0.0     0.0           0.0         0.0      0.0   \n",
       "1        0.0       0.0        0.0     0.0           0.0         0.0      0.0   \n",
       "2        0.0       0.0        0.0     0.0           0.0         0.0      0.0   \n",
       "\n",
       "   Coimbatore  Delhi  Ernakulam  Gurugram  Guwahati  Hyderabad  Jaipur  \\\n",
       "0         0.0    0.0        0.0       0.0       0.0        0.0     0.0   \n",
       "1         0.0    0.0        0.0       0.0       0.0        0.0     0.0   \n",
       "2         0.0    0.0        0.0       0.0       0.0        0.0     0.0   \n",
       "\n",
       "   Jorapokhar  Kochi  Kolkata  Lucknow  Mumbai  Patna  Shillong  Talcher  \\\n",
       "0         0.0    0.0      0.0      0.0     0.0    0.0       0.0      0.0   \n",
       "1         0.0    0.0      0.0      0.0     0.0    0.0       0.0      0.0   \n",
       "2         0.0    0.0      0.0      0.0     0.0    0.0       0.0      0.0   \n",
       "\n",
       "   Thiruvananthapuram  Visakhapatnam  \n",
       "0                 0.0            0.0  \n",
       "1                 0.0            0.0  \n",
       "2                 0.0            0.0  "
      ]
     },
     "execution_count": 3,
     "metadata": {},
     "output_type": "execute_result"
    }
   ],
   "source": [
    "pd.set_option('display.max_columns', 42)\n",
    "df.head(3)\n"
   ]
  },
  {
   "cell_type": "code",
   "execution_count": 4,
   "metadata": {},
   "outputs": [
    {
     "data": {
      "text/plain": [
       "(668791, 42)"
      ]
     },
     "execution_count": 4,
     "metadata": {},
     "output_type": "execute_result"
    }
   ],
   "source": [
    "df.shape"
   ]
  },
  {
   "cell_type": "markdown",
   "metadata": {},
   "source": [
    "# Outlier Detection\n",
    "Boxplots are the best way to detect outliers in a numerical variable<br>\n",
    "Question: Are there any oultier in numerical variable?<br>\n",
    "Approach: Visualizing the outlier uisng boxplot().<br>\n",
    "-- boxplot() to visualize distribution og specific nunmerical variable."
   ]
  },
  {
   "cell_type": "markdown",
   "metadata": {},
   "source": [
    "## PM2.5"
   ]
  },
  {
   "cell_type": "code",
   "execution_count": 5,
   "metadata": {},
   "outputs": [
    {
     "data": {
      "text/plain": [
       "<Axes: ylabel='PM2.5'>"
      ]
     },
     "execution_count": 5,
     "metadata": {},
     "output_type": "execute_result"
    },
    {
     "data": {
      "image/png": "[encoded data removed]",
      "text/plain": [
       "<Figure size 1000x1000 with 1 Axes>"
      ]
     },
     "metadata": {},
     "output_type": "display_data"
    }
   ],
   "source": [
    "plt.figure(figsize=(10, 10))\n",
    "sns.boxplot(data=df[\"PM2.5\"])\n",
    "sns.stripplot(data=df[\"PM2.5\"])"
   ]
  },
  {
   "cell_type": "markdown",
   "metadata": {},
   "source": [
    "### From above observation\n",
    "* some outlier has been seen in PM2.5 data"
   ]
  },
  {
   "cell_type": "markdown",
   "metadata": {},
   "source": [
    "## PM10"
   ]
  },
  {
   "cell_type": "code",
   "execution_count": 6,
   "metadata": {},
   "outputs": [
    {
     "data": {
      "text/plain": [
       "<Axes: ylabel='PM10'>"
      ]
     },
     "execution_count": 6,
     "metadata": {},
     "output_type": "execute_result"
    },
    {
     "data": {
      "image/png": "[encoded data removed]",
      "text/plain": [
       "<Figure size 1000x1000 with 1 Axes>"
      ]
     },
     "metadata": {},
     "output_type": "display_data"
    }
   ],
   "source": [
    "plt.figure(figsize=(10, 10))\n",
    "sns.boxplot(data=df[\"PM10\"])\n",
    "sns.stripplot(data=df[\"PM10\"])"
   ]
  },
  {
   "cell_type": "markdown",
   "metadata": {},
   "source": [
    "### From above observation\n",
    "* some outlier has been seen in PM10 data"
   ]
  },
  {
   "cell_type": "markdown",
   "metadata": {},
   "source": [
    "## Here is the all numerical features box distribution plot to detected outlier"
   ]
  },
  {
   "cell_type": "code",
   "execution_count": 7,
   "metadata": {},
   "outputs": [
    {
     "data": {
      "application/vnd.jupyter.widget-view+json": {
       "model_id": "93a2ab440a4c41fbb06fea356358c4f2",
       "version_major": 2,
       "version_minor": 0
      },
      "text/plain": [
       "interactive(children=(Dropdown(description='predictor', options=('PM2.5', 'PM10', 'NO', 'NO2', 'NOx', 'NH3', '…"
      ]
     },
     "metadata": {},
     "output_type": "display_data"
    }
   ],
   "source": [
    "numerical_features = ['PM2.5',    'PM10',      'NO',     'NO2',     'NOx',     'NH3',\n",
    "            'CO',     'SO2',      'O3', 'Benzene', 'Toluene', 'Xylene', 'AQI']\n",
    "@interact(predictor=numerical_features)\n",
    "def interactive_bivariate_barplot(predictor):\n",
    "    plt.figure(figsize=(10,10))\n",
    "    sns.boxplot(x=predictor, data=df, color=\"purple\")\n",
    "    plt.show()"
   ]
  },
  {
   "cell_type": "markdown",
   "metadata": {},
   "source": [
    "### Here is the boxplot distribution of numerical features"
   ]
  },
  {
   "cell_type": "markdown",
   "metadata": {},
   "source": [
    "# Removing outlier \n",
    "Question: How to remove outlier that present in the dataset?<br>\n",
    "Approach: Remove outlier using the Interquartile Range approach.<br>\n",
    "-- In descriptive statistics, the interquartile range is a measure of statistical dispersion, which is the spread of the data. It is defined as the difference between the 75th and 25th percentiles of the data."
   ]
  },
  {
   "cell_type": "code",
   "execution_count": 8,
   "metadata": {},
   "outputs": [],
   "source": [
    "def get_iqr(features):\n",
    "    # calculating q1\n",
    "    q1 = np.percentile(features, 25)\n",
    "\n",
    "    # calculating q3\n",
    "    q3 = np.percentile(features, 75 )\n",
    "\n",
    "    # caluculating IQR value\n",
    "    iqr_value = q3 - q1\n",
    "\n",
    "    # calculating the lower and upper fence\n",
    "    lower_fence = q1 - 1.5 * iqr_value\n",
    "    upper_fence = q3 + 1.5 * iqr_value\n",
    "\n",
    "    # returning the lower and upper fence\n",
    "    return lower_fence, upper_fence"
   ]
  },
  {
   "cell_type": "code",
   "execution_count": 9,
   "metadata": {},
   "outputs": [],
   "source": [
    "def remove_outlier(data, features):\n",
    "    r_o = data.copy()\n",
    "    r_o.drop(columns=\"AQI_Bucket\", inplace=True)\n",
    "    for index in range(len(features)):\n",
    "        for item in features:\n",
    "            lower, upper = get_iqr(r_o[item])\n",
    "            r_o = r_o.loc[(r_o[item] > lower) | (r_o[item] < upper)]\n",
    "    return r_o"
   ]
  },
  {
   "cell_type": "code",
   "execution_count": 10,
   "metadata": {},
   "outputs": [
    {
     "data": {
      "text/plain": [
       "Index(['PM2.5', 'PM10', 'NO', 'NO2', 'NOx', 'NH3', 'CO', 'SO2', 'O3',\n",
       "       'Benzene', 'Toluene', 'Xylene', 'AQI', 'AQI_Bucket', 'Year', 'Month',\n",
       "       'Ahmedabad', 'Aizawl', 'Amaravati', 'Amritsar', 'Bengaluru', 'Bhopal',\n",
       "       'Brajrajnagar', 'Chandigarh', 'Chennai', 'Coimbatore', 'Delhi',\n",
       "       'Ernakulam', 'Gurugram', 'Guwahati', 'Hyderabad', 'Jaipur',\n",
       "       'Jorapokhar', 'Kochi', 'Kolkata', 'Lucknow', 'Mumbai', 'Patna',\n",
       "       'Shillong', 'Talcher', 'Thiruvananthapuram', 'Visakhapatnam'],\n",
       "      dtype='object')"
      ]
     },
     "execution_count": 10,
     "metadata": {},
     "output_type": "execute_result"
    }
   ],
   "source": [
    "df.columns.unique()"
   ]
  },
  {
   "cell_type": "code",
   "execution_count": 12,
   "metadata": {},
   "outputs": [],
   "source": [
    "def replace_outliers(data, features):\n",
    "    \n",
    "    # Iterate over each feature\n",
    "    for feature in features:\n",
    "        # Calculate the lower and upper bounds of the interquartile range (IQR)\n",
    "        lower, upper = get_iqr(data[feature])\n",
    "        # Define the condition for outliers\n",
    "        outlier_condition = (data[feature] < lower) | (data[feature] > upper)\n",
    "        # Replace outliers with the median value of the feature\n",
    "        data.loc[outlier_condition, feature] = data[feature].median()\n",
    "    \n",
    "    return data\n"
   ]
  },
  {
   "cell_type": "code",
   "execution_count": 13,
   "metadata": {},
   "outputs": [],
   "source": [
    "features =['PM2.5', 'PM10', 'NO', 'NO2', 'NOx', 'NH3', 'CO', 'SO2', 'O3',\n",
    "       'Benzene', 'Toluene', 'Xylene', 'AQI']\n",
    "data_without_outlier =  replace_outliers(df, features)"
   ]
  },
  {
   "cell_type": "code",
   "execution_count": 14,
   "metadata": {},
   "outputs": [
    {
     "data": {
      "application/vnd.jupyter.widget-view+json": {
       "model_id": "990d322c688342378c98270d73ed3b48",
       "version_major": 2,
       "version_minor": 0
      },
      "text/plain": [
       "interactive(children=(Dropdown(description='predictor', options=('PM2.5', 'PM10', 'NO', 'NO2', 'NOx', 'NH3', '…"
      ]
     },
     "metadata": {},
     "output_type": "display_data"
    }
   ],
   "source": [
    "@interact(predictor=numerical_features)\n",
    "def interactive_bivariate_barplot(predictor):\n",
    "    plt.figure(figsize=(10,10))\n",
    "    sns.boxplot(x=predictor, data=data_without_outlier, color=\"purple\")\n",
    "    sns.stripplot(x=predictor,data=data_without_outlier, color=\"red\")\n",
    "    plt.show()"
   ]
  },
  {
   "cell_type": "markdown",
   "metadata": {},
   "source": [
    "# To save data_without_outlier to train_data"
   ]
  },
  {
   "cell_type": "code",
   "execution_count": 15,
   "metadata": {},
   "outputs": [],
   "source": [
    "data_without_outlier.to_csv(\"train_dataset.csv\", index=False)"
   ]
  },
  {
   "cell_type": "code",
   "execution_count": null,
   "metadata": {},
   "outputs": [],
   "source": []
  }
 ],
 "metadata": {
  "kernelspec": {
   "display_name": "Python 3 (ipykernel)",
   "language": "python",
   "name": "python3"
  },
  "language_info": {
   "codemirror_mode": {
    "name": "ipython",
    "version": 3
   },
   "file_extension": ".py",
   "mimetype": "text/x-python",
   "name": "python",
   "nbconvert_exporter": "python",
   "pygments_lexer": "ipython3",
   "version": "3.11.1"
  }
 },
 "nbformat": 4,
 "nbformat_minor": 4
}
