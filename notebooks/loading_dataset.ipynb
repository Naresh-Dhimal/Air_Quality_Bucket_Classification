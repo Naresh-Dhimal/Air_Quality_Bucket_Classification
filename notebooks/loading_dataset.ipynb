{
 "cells": [
  {
   "cell_type": "markdown",
   "metadata": {},
   "source": [
    "# Loading dataset from Drive"
   ]
  },
  {
   "cell_type": "code",
   "execution_count": 1,
   "metadata": {},
   "outputs": [],
   "source": [
    "def generating_url():\n",
    "    #### Converting the share link to downland link\n",
    "    data_share_link = \"https://drive.google.com/file/d/1QV9TppYEslb7kbi1cCYaXIIYsQ53J411/view?usp=drive_link\"\n",
    "\n",
    "    #### Extracting Data ID\n",
    "    data_id = \"1QV9TppYEslb7kbi1cCYaXIIYsQ53J411\"\n",
    "\n",
    "    ##### Generating Downloaded link\n",
    "    dataset_url = f\"https://drive.google.com/uc?export=download&id={data_id}\"\n",
    "\n",
    "    return dataset_url"
   ]
  }
 ],
 "metadata": {
  "kernelspec": {
   "display_name": "myenv",
   "language": "python",
   "name": "python3"
  },
  "language_info": {
   "codemirror_mode": {
    "name": "ipython",
    "version": 3
   },
   "file_extension": ".py",
   "mimetype": "text/x-python",
   "name": "python",
   "nbconvert_exporter": "python",
   "pygments_lexer": "ipython3",
   "version": "3.11.1"
  }
 },
 "nbformat": 4,
 "nbformat_minor": 2
}
