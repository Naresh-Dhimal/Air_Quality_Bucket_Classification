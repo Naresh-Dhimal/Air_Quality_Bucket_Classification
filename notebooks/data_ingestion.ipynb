{
 "cells": [
  {
   "cell_type": "markdown",
   "metadata": {},
   "source": [
    "# Data ingestion"
   ]
  },
  {
   "cell_type": "markdown",
   "metadata": {},
   "source": [
    "#### Importing important libraries"
   ]
  },
  {
   "cell_type": "code",
   "execution_count": 29,
   "metadata": {},
   "outputs": [],
   "source": [
    "# Import the necessary modules\n",
    "import pandas as pd\n",
    "import numpy as np\n",
    "import matplotlib.pyplot as plt\n",
    "import seaborn as sns\n"
   ]
  },
  {
   "cell_type": "code",
   "execution_count": 3,
   "metadata": {},
   "outputs": [],
   "source": [
    "# Specify the absolute file path\n",
    "file_path = \"dataset/air_quality_data.csv\""
   ]
  },
  {
   "cell_type": "code",
   "execution_count": 6,
   "metadata": {},
   "outputs": [],
   "source": [
    "# importing dataset and converting data into pandas dataframe\n",
    "df = pd.read_csv(file_path)"
   ]
  },
  {
   "cell_type": "markdown",
   "metadata": {},
   "source": [
    "# About dataset"
   ]
  },
  {
   "cell_type": "markdown",
   "metadata": {},
   "source": [
    "<b>Context</b>\n",
    "Air Quality plays a significant factor in maintaining the health of an individual. Hence, monitoring the Air Quality by measuring and documenting the concentration levels of different pollutants is important.\n",
    "\n",
    "<b>Source</b>\n",
    "The dataset have been derived from Central Pollution Control Board of India: : https://cpcb.nic.in/\n",
    "\n",
    "<b>Inspiration</b>\n",
    "This dataset aims to document the pollutant concentration levels in different cities of India at different dates and time during the period of 2015 - 2020. The pollutant concentration levels can be utilized to determine Air Quality Index and conclude on the air quality of India throughout the period. The dataset is aimed to be updated annually with up-to-date values and credible information.\n",
    "\n",
    "Dataset Reference: [click Here](https://www.kaggle.com/datasets/amandeepvasistha/air-quality-data)\n"
   ]
  },
  {
   "cell_type": "markdown",
   "metadata": {},
   "source": [
    "# Data Profiling and Inspection"
   ]
  },
  {
   "cell_type": "markdown",
   "metadata": {},
   "source": [
    "# 1. Data Size\n",
    "Question: How big data?<br>\n",
    "Approach: check the shape of the dataset.<br>\n",
    "-- shape returns the number of rows and columns\n"
   ]
  },
  {
   "cell_type": "code",
   "execution_count": 7,
   "metadata": {},
   "outputs": [
    {
     "data": {
      "text/plain": [
       "(737406, 16)"
      ]
     },
     "execution_count": 7,
     "metadata": {},
     "output_type": "execute_result"
    }
   ],
   "source": [
    "df.shape"
   ]
  },
  {
   "cell_type": "markdown",
   "metadata": {},
   "source": [
    "# 2. Data Preview\n",
    "Question: What does the data look like?<br>\n",
    "-- head() displays the first few roes of the dataset<br>\n",
    "-- sample() displays the randomly selected items rows of the dataset.\n",
    "\n"
   ]
  },
  {
   "cell_type": "code",
   "execution_count": 10,
   "metadata": {},
   "outputs": [
    {
     "data": {
      "text/html": [
       "<div>\n",
       "<style scoped>\n",
       "    .dataframe tbody tr th:only-of-type {\n",
       "        vertical-align: middle;\n",
       "    }\n",
       "\n",
       "    .dataframe tbody tr th {\n",
       "        vertical-align: top;\n",
       "    }\n",
       "\n",
       "    .dataframe thead th {\n",
       "        text-align: right;\n",
       "    }\n",
       "</style>\n",
       "<table border=\"1\" class=\"dataframe\">\n",
       "  <thead>\n",
       "    <tr style=\"text-align: right;\">\n",
       "      <th></th>\n",
       "      <th>City</th>\n",
       "      <th>Datetime</th>\n",
       "      <th>PM2.5</th>\n",
       "      <th>PM10</th>\n",
       "      <th>NO</th>\n",
       "      <th>NO2</th>\n",
       "      <th>NOx</th>\n",
       "      <th>NH3</th>\n",
       "      <th>CO</th>\n",
       "      <th>SO2</th>\n",
       "      <th>O3</th>\n",
       "      <th>Benzene</th>\n",
       "      <th>Toluene</th>\n",
       "      <th>Xylene</th>\n",
       "      <th>AQI</th>\n",
       "      <th>AQI_Bucket</th>\n",
       "    </tr>\n",
       "  </thead>\n",
       "  <tbody>\n",
       "    <tr>\n",
       "      <th>0</th>\n",
       "      <td>Ahmedabad</td>\n",
       "      <td>2015-01-01 01:00:00</td>\n",
       "      <td>NaN</td>\n",
       "      <td>NaN</td>\n",
       "      <td>1.00</td>\n",
       "      <td>40.01</td>\n",
       "      <td>36.37</td>\n",
       "      <td>NaN</td>\n",
       "      <td>1.00</td>\n",
       "      <td>122.07</td>\n",
       "      <td>NaN</td>\n",
       "      <td>0.0</td>\n",
       "      <td>0.0</td>\n",
       "      <td>0.0</td>\n",
       "      <td>NaN</td>\n",
       "      <td>NaN</td>\n",
       "    </tr>\n",
       "    <tr>\n",
       "      <th>1</th>\n",
       "      <td>Ahmedabad</td>\n",
       "      <td>2015-01-01 02:00:00</td>\n",
       "      <td>NaN</td>\n",
       "      <td>NaN</td>\n",
       "      <td>0.02</td>\n",
       "      <td>27.75</td>\n",
       "      <td>19.73</td>\n",
       "      <td>NaN</td>\n",
       "      <td>0.02</td>\n",
       "      <td>85.90</td>\n",
       "      <td>NaN</td>\n",
       "      <td>0.0</td>\n",
       "      <td>0.0</td>\n",
       "      <td>0.0</td>\n",
       "      <td>NaN</td>\n",
       "      <td>NaN</td>\n",
       "    </tr>\n",
       "    <tr>\n",
       "      <th>2</th>\n",
       "      <td>Ahmedabad</td>\n",
       "      <td>2015-01-01 03:00:00</td>\n",
       "      <td>NaN</td>\n",
       "      <td>NaN</td>\n",
       "      <td>0.08</td>\n",
       "      <td>19.32</td>\n",
       "      <td>11.08</td>\n",
       "      <td>NaN</td>\n",
       "      <td>0.08</td>\n",
       "      <td>52.83</td>\n",
       "      <td>NaN</td>\n",
       "      <td>0.0</td>\n",
       "      <td>0.0</td>\n",
       "      <td>0.0</td>\n",
       "      <td>NaN</td>\n",
       "      <td>NaN</td>\n",
       "    </tr>\n",
       "  </tbody>\n",
       "</table>\n",
       "</div>"
      ],
      "text/plain": [
       "        City             Datetime  PM2.5  PM10    NO    NO2    NOx  NH3    CO  \\\n",
       "0  Ahmedabad  2015-01-01 01:00:00    NaN   NaN  1.00  40.01  36.37  NaN  1.00   \n",
       "1  Ahmedabad  2015-01-01 02:00:00    NaN   NaN  0.02  27.75  19.73  NaN  0.02   \n",
       "2  Ahmedabad  2015-01-01 03:00:00    NaN   NaN  0.08  19.32  11.08  NaN  0.08   \n",
       "\n",
       "      SO2  O3  Benzene  Toluene  Xylene  AQI AQI_Bucket  \n",
       "0  122.07 NaN      0.0      0.0     0.0  NaN        NaN  \n",
       "1   85.90 NaN      0.0      0.0     0.0  NaN        NaN  \n",
       "2   52.83 NaN      0.0      0.0     0.0  NaN        NaN  "
      ]
     },
     "execution_count": 10,
     "metadata": {},
     "output_type": "execute_result"
    }
   ],
   "source": [
    "df.head(3)"
   ]
  },
  {
   "cell_type": "code",
   "execution_count": 9,
   "metadata": {},
   "outputs": [
    {
     "data": {
      "text/html": [
       "<div>\n",
       "<style scoped>\n",
       "    .dataframe tbody tr th:only-of-type {\n",
       "        vertical-align: middle;\n",
       "    }\n",
       "\n",
       "    .dataframe tbody tr th {\n",
       "        vertical-align: top;\n",
       "    }\n",
       "\n",
       "    .dataframe thead th {\n",
       "        text-align: right;\n",
       "    }\n",
       "</style>\n",
       "<table border=\"1\" class=\"dataframe\">\n",
       "  <thead>\n",
       "    <tr style=\"text-align: right;\">\n",
       "      <th></th>\n",
       "      <th>City</th>\n",
       "      <th>Datetime</th>\n",
       "      <th>PM2.5</th>\n",
       "      <th>PM10</th>\n",
       "      <th>NO</th>\n",
       "      <th>NO2</th>\n",
       "      <th>NOx</th>\n",
       "      <th>NH3</th>\n",
       "      <th>CO</th>\n",
       "      <th>SO2</th>\n",
       "      <th>O3</th>\n",
       "      <th>Benzene</th>\n",
       "      <th>Toluene</th>\n",
       "      <th>Xylene</th>\n",
       "      <th>AQI</th>\n",
       "      <th>AQI_Bucket</th>\n",
       "    </tr>\n",
       "  </thead>\n",
       "  <tbody>\n",
       "    <tr>\n",
       "      <th>422987</th>\n",
       "      <td>Jaipur</td>\n",
       "      <td>2020-05-07 20:00:00</td>\n",
       "      <td>22.00</td>\n",
       "      <td>66.51</td>\n",
       "      <td>4.02</td>\n",
       "      <td>29.08</td>\n",
       "      <td>29.77</td>\n",
       "      <td>32.96</td>\n",
       "      <td>0.66</td>\n",
       "      <td>7.94</td>\n",
       "      <td>35.71</td>\n",
       "      <td>0.31</td>\n",
       "      <td>0.66</td>\n",
       "      <td>NaN</td>\n",
       "      <td>96.0</td>\n",
       "      <td>Satisfactory</td>\n",
       "    </tr>\n",
       "    <tr>\n",
       "      <th>290272</th>\n",
       "      <td>Delhi</td>\n",
       "      <td>2020-02-23 05:00:00</td>\n",
       "      <td>127.98</td>\n",
       "      <td>197.74</td>\n",
       "      <td>66.65</td>\n",
       "      <td>43.39</td>\n",
       "      <td>84.93</td>\n",
       "      <td>38.90</td>\n",
       "      <td>1.37</td>\n",
       "      <td>11.60</td>\n",
       "      <td>17.88</td>\n",
       "      <td>4.71</td>\n",
       "      <td>32.41</td>\n",
       "      <td>2.17</td>\n",
       "      <td>186.0</td>\n",
       "      <td>Moderate</td>\n",
       "    </tr>\n",
       "    <tr>\n",
       "      <th>45622</th>\n",
       "      <td>Ahmedabad</td>\n",
       "      <td>2020-03-15 23:00:00</td>\n",
       "      <td>61.92</td>\n",
       "      <td>135.83</td>\n",
       "      <td>24.92</td>\n",
       "      <td>74.49</td>\n",
       "      <td>54.93</td>\n",
       "      <td>NaN</td>\n",
       "      <td>24.92</td>\n",
       "      <td>96.07</td>\n",
       "      <td>14.93</td>\n",
       "      <td>2.85</td>\n",
       "      <td>46.56</td>\n",
       "      <td>1.13</td>\n",
       "      <td>403.0</td>\n",
       "      <td>Severe</td>\n",
       "    </tr>\n",
       "  </tbody>\n",
       "</table>\n",
       "</div>"
      ],
      "text/plain": [
       "             City             Datetime   PM2.5    PM10     NO    NO2    NOx  \\\n",
       "422987     Jaipur  2020-05-07 20:00:00   22.00   66.51   4.02  29.08  29.77   \n",
       "290272      Delhi  2020-02-23 05:00:00  127.98  197.74  66.65  43.39  84.93   \n",
       "45622   Ahmedabad  2020-03-15 23:00:00   61.92  135.83  24.92  74.49  54.93   \n",
       "\n",
       "          NH3     CO    SO2     O3  Benzene  Toluene  Xylene    AQI  \\\n",
       "422987  32.96   0.66   7.94  35.71     0.31     0.66     NaN   96.0   \n",
       "290272  38.90   1.37  11.60  17.88     4.71    32.41    2.17  186.0   \n",
       "45622     NaN  24.92  96.07  14.93     2.85    46.56    1.13  403.0   \n",
       "\n",
       "          AQI_Bucket  \n",
       "422987  Satisfactory  \n",
       "290272      Moderate  \n",
       "45622         Severe  "
      ]
     },
     "execution_count": 9,
     "metadata": {},
     "output_type": "execute_result"
    }
   ],
   "source": [
    "df.sample(3)"
   ]
  },
  {
   "cell_type": "markdown",
   "metadata": {},
   "source": [
    "# 3. Data Types\n",
    "Question: What types of information are stored in each columns?<br>\n",
    "Approach: Check the data types of each column using dtype or info().<br>\n",
    "-- info() provides information about the dataset.<br>\n",
    "-- dtypes returns the data types of each columns\n"
   ]
  },
  {
   "cell_type": "code",
   "execution_count": null,
   "metadata": {},
   "outputs": [
    {
     "data": {
      "text/plain": [
       "City           object\n",
       "Datetime       object\n",
       "PM2.5         float64\n",
       "PM10          float64\n",
       "NO            float64\n",
       "NO2           float64\n",
       "NOx           float64\n",
       "NH3           float64\n",
       "CO            float64\n",
       "SO2           float64\n",
       "O3            float64\n",
       "Benzene       float64\n",
       "Toluene       float64\n",
       "Xylene        float64\n",
       "AQI           float64\n",
       "AQI_Bucket     object\n",
       "dtype: object"
      ]
     },
     "execution_count": 3,
     "metadata": {},
     "output_type": "execute_result"
    }
   ],
   "source": [
    "# checking datatypes of each colums\n",
    "df.dtypes"
   ]
  },
  {
   "cell_type": "code",
   "execution_count": null,
   "metadata": {},
   "outputs": [
    {
     "name": "stdout",
     "output_type": "stream",
     "text": [
      "<class 'pandas.core.frame.DataFrame'>\n",
      "RangeIndex: 737406 entries, 0 to 737405\n",
      "Data columns (total 16 columns):\n",
      " #   Column      Non-Null Count   Dtype  \n",
      "---  ------      --------------   -----  \n",
      " 0   City        737406 non-null  object \n",
      " 1   Datetime    737406 non-null  object \n",
      " 2   PM2.5       587720 non-null  float64\n",
      " 3   PM10        429529 non-null  float64\n",
      " 4   NO          617192 non-null  float64\n",
      " 5   NO2         616699 non-null  float64\n",
      " 6   NOx         609997 non-null  float64\n",
      " 7   NH3         454536 non-null  float64\n",
      " 8   CO          648830 non-null  float64\n",
      " 9   SO2         603179 non-null  float64\n",
      " 10  O3          604176 non-null  float64\n",
      " 11  Benzene     568137 non-null  float64\n",
      " 12  Toluene     508758 non-null  float64\n",
      " 13  Xylene      263468 non-null  float64\n",
      " 14  AQI         603645 non-null  float64\n",
      " 15  AQI_Bucket  603645 non-null  object \n",
      "dtypes: float64(13), object(3)\n",
      "memory usage: 90.0+ MB\n"
     ]
    }
   ],
   "source": [
    "# Overall Information of dataset\n",
    "df.info()"
   ]
  },
  {
   "cell_type": "markdown",
   "metadata": {},
   "source": [
    "### From above information\n",
    "* Total number of entries have 737406\n",
    "* Total number of columns is 16\n",
    "    1. PM2.5 has 587720 non null remaining are null value  \n",
    "    2. PM10 has 429529 non null reamaining are null value\n",
    "    3. NO has 617192 non null reamaining are null value\n",
    "    4. NO2 has 616699 non null reamaining are null value\n",
    "    5. NOx has 609997 non null reamaining are null value\n",
    "    6. NH3 has 454536 non null reamaining are null value\n",
    "    7. CO has 648830 non null reamaining are null value\n",
    "    8. SO2 has 603179 non null reamaining are null value\n",
    "    9. Benzene has 568137 non null reamaining are null value\n",
    "    10. Toluene has 508758 non null reamaining are null value\n",
    "    11. Xylene has 263468  non null reamaining are null value\n",
    "    12. AQI has 603645  non null reamaining are null value\n",
    "    13. AQI_Bucket has 603645  non null reamaining are null value\n",
    "    \n",
    "\n"
   ]
  },
  {
   "cell_type": "markdown",
   "metadata": {},
   "source": [
    "# 4. Missing Values\n",
    "Question: Are there any null or missing values in the data?<br>\n",
    "Approach: Check for the presence of missing values using isnull() or isna().<br>\n",
    "-- isna().sum() or isnull().sum() gives the total number of missing values per column.<br>\n",
    "-- isna().mean() * 100 provides the percentage of missing values\n",
    "\n"
   ]
  },
  {
   "cell_type": "code",
   "execution_count": null,
   "metadata": {},
   "outputs": [
    {
     "data": {
      "text/plain": [
       "City               0\n",
       "Datetime           0\n",
       "PM2.5         149686\n",
       "PM10          307877\n",
       "NO            120214\n",
       "NO2           120707\n",
       "NOx           127409\n",
       "NH3           282870\n",
       "CO             88576\n",
       "SO2           134227\n",
       "O3            133230\n",
       "Benzene       169269\n",
       "Toluene       228648\n",
       "Xylene        473938\n",
       "AQI           133761\n",
       "AQI_Bucket    133761\n",
       "dtype: int64"
      ]
     },
     "execution_count": 5,
     "metadata": {},
     "output_type": "execute_result"
    }
   ],
   "source": [
    "# Checking missing data \n",
    "df.isna().sum()"
   ]
  },
  {
   "cell_type": "code",
   "execution_count": 11,
   "metadata": {},
   "outputs": [
    {
     "data": {
      "text/plain": [
       "City           0.000000\n",
       "Datetime       0.000000\n",
       "PM2.5         20.298994\n",
       "PM10          41.751355\n",
       "NO            16.302281\n",
       "NO2           16.369137\n",
       "NOx           17.277999\n",
       "NH3           38.360144\n",
       "CO            12.011836\n",
       "SO2           18.202591\n",
       "O3            18.067388\n",
       "Benzene       22.954655\n",
       "Toluene       31.007071\n",
       "Xylene        64.270971\n",
       "AQI           18.139397\n",
       "AQI_Bucket    18.139397\n",
       "dtype: float64"
      ]
     },
     "execution_count": 11,
     "metadata": {},
     "output_type": "execute_result"
    }
   ],
   "source": [
    "# finding percentage of missing data\n",
    "df.isna().mean() * 100"
   ]
  },
  {
   "cell_type": "markdown",
   "metadata": {},
   "source": [
    "### From above observation\n",
    "* Xylene has highest percentage of missing value with 64.27% in original dataset\n",
    "* CO has lowest percentage of missing value among others with 12.27% in original dataset "
   ]
  },
  {
   "cell_type": "markdown",
   "metadata": {},
   "source": [
    "# 5. Statistical Overview\n",
    "Question: How is the data distributed statistically?<br>\n",
    "Approach: Check statistical measures using describe()<br>\n",
    "-- describe() gives statistical measures for numerical columns.\n",
    "\n"
   ]
  },
  {
   "cell_type": "code",
   "execution_count": null,
   "metadata": {},
   "outputs": [
    {
     "data": {
      "text/html": [
       "<div>\n",
       "<style scoped>\n",
       "    .dataframe tbody tr th:only-of-type {\n",
       "        vertical-align: middle;\n",
       "    }\n",
       "\n",
       "    .dataframe tbody tr th {\n",
       "        vertical-align: top;\n",
       "    }\n",
       "\n",
       "    .dataframe thead th {\n",
       "        text-align: right;\n",
       "    }\n",
       "</style>\n",
       "<table border=\"1\" class=\"dataframe\">\n",
       "  <thead>\n",
       "    <tr style=\"text-align: right;\">\n",
       "      <th></th>\n",
       "      <th>count</th>\n",
       "      <th>mean</th>\n",
       "      <th>std</th>\n",
       "      <th>min</th>\n",
       "      <th>25%</th>\n",
       "      <th>50%</th>\n",
       "      <th>75%</th>\n",
       "      <th>max</th>\n",
       "    </tr>\n",
       "  </thead>\n",
       "  <tbody>\n",
       "    <tr>\n",
       "      <th>PM2.5</th>\n",
       "      <td>587720.0</td>\n",
       "      <td>67.615679</td>\n",
       "      <td>74.331004</td>\n",
       "      <td>0.01</td>\n",
       "      <td>26.29</td>\n",
       "      <td>46.50</td>\n",
       "      <td>79.50</td>\n",
       "      <td>999.99</td>\n",
       "    </tr>\n",
       "    <tr>\n",
       "      <th>PM10</th>\n",
       "      <td>429529.0</td>\n",
       "      <td>119.035184</td>\n",
       "      <td>103.678358</td>\n",
       "      <td>0.01</td>\n",
       "      <td>52.54</td>\n",
       "      <td>91.71</td>\n",
       "      <td>147.65</td>\n",
       "      <td>1000.00</td>\n",
       "    </tr>\n",
       "    <tr>\n",
       "      <th>NO</th>\n",
       "      <td>617192.0</td>\n",
       "      <td>17.428187</td>\n",
       "      <td>31.758813</td>\n",
       "      <td>0.01</td>\n",
       "      <td>3.90</td>\n",
       "      <td>8.04</td>\n",
       "      <td>16.33</td>\n",
       "      <td>499.99</td>\n",
       "    </tr>\n",
       "    <tr>\n",
       "      <th>NO2</th>\n",
       "      <td>616699.0</td>\n",
       "      <td>28.871505</td>\n",
       "      <td>28.980321</td>\n",
       "      <td>0.01</td>\n",
       "      <td>10.85</td>\n",
       "      <td>20.38</td>\n",
       "      <td>36.42</td>\n",
       "      <td>499.51</td>\n",
       "    </tr>\n",
       "    <tr>\n",
       "      <th>NOx</th>\n",
       "      <td>609997.0</td>\n",
       "      <td>32.288461</td>\n",
       "      <td>39.452857</td>\n",
       "      <td>0.00</td>\n",
       "      <td>10.73</td>\n",
       "      <td>20.90</td>\n",
       "      <td>37.28</td>\n",
       "      <td>498.61</td>\n",
       "    </tr>\n",
       "    <tr>\n",
       "      <th>NH3</th>\n",
       "      <td>454536.0</td>\n",
       "      <td>23.602700</td>\n",
       "      <td>28.705890</td>\n",
       "      <td>0.01</td>\n",
       "      <td>8.14</td>\n",
       "      <td>15.39</td>\n",
       "      <td>29.27</td>\n",
       "      <td>499.97</td>\n",
       "    </tr>\n",
       "    <tr>\n",
       "      <th>CO</th>\n",
       "      <td>648830.0</td>\n",
       "      <td>2.186294</td>\n",
       "      <td>10.830938</td>\n",
       "      <td>0.00</td>\n",
       "      <td>0.42</td>\n",
       "      <td>0.81</td>\n",
       "      <td>1.37</td>\n",
       "      <td>498.57</td>\n",
       "    </tr>\n",
       "    <tr>\n",
       "      <th>SO2</th>\n",
       "      <td>603179.0</td>\n",
       "      <td>14.059323</td>\n",
       "      <td>19.257355</td>\n",
       "      <td>0.01</td>\n",
       "      <td>4.91</td>\n",
       "      <td>8.40</td>\n",
       "      <td>14.80</td>\n",
       "      <td>199.96</td>\n",
       "    </tr>\n",
       "    <tr>\n",
       "      <th>O3</th>\n",
       "      <td>604176.0</td>\n",
       "      <td>34.785994</td>\n",
       "      <td>29.509072</td>\n",
       "      <td>0.01</td>\n",
       "      <td>13.65</td>\n",
       "      <td>26.48</td>\n",
       "      <td>47.50</td>\n",
       "      <td>497.62</td>\n",
       "    </tr>\n",
       "    <tr>\n",
       "      <th>Benzene</th>\n",
       "      <td>568137.0</td>\n",
       "      <td>3.095727</td>\n",
       "      <td>16.429980</td>\n",
       "      <td>0.00</td>\n",
       "      <td>0.06</td>\n",
       "      <td>0.87</td>\n",
       "      <td>2.77</td>\n",
       "      <td>498.07</td>\n",
       "    </tr>\n",
       "    <tr>\n",
       "      <th>Toluene</th>\n",
       "      <td>508758.0</td>\n",
       "      <td>8.662618</td>\n",
       "      <td>21.669094</td>\n",
       "      <td>0.00</td>\n",
       "      <td>0.37</td>\n",
       "      <td>2.61</td>\n",
       "      <td>8.44</td>\n",
       "      <td>499.40</td>\n",
       "    </tr>\n",
       "    <tr>\n",
       "      <th>Xylene</th>\n",
       "      <td>263468.0</td>\n",
       "      <td>3.127918</td>\n",
       "      <td>7.775396</td>\n",
       "      <td>0.00</td>\n",
       "      <td>0.10</td>\n",
       "      <td>0.80</td>\n",
       "      <td>3.14</td>\n",
       "      <td>499.99</td>\n",
       "    </tr>\n",
       "    <tr>\n",
       "      <th>AQI</th>\n",
       "      <td>603645.0</td>\n",
       "      <td>166.415562</td>\n",
       "      <td>161.287129</td>\n",
       "      <td>8.00</td>\n",
       "      <td>79.00</td>\n",
       "      <td>116.00</td>\n",
       "      <td>208.00</td>\n",
       "      <td>3133.00</td>\n",
       "    </tr>\n",
       "  </tbody>\n",
       "</table>\n",
       "</div>"
      ],
      "text/plain": [
       "            count        mean         std   min    25%     50%     75%  \\\n",
       "PM2.5    587720.0   67.615679   74.331004  0.01  26.29   46.50   79.50   \n",
       "PM10     429529.0  119.035184  103.678358  0.01  52.54   91.71  147.65   \n",
       "NO       617192.0   17.428187   31.758813  0.01   3.90    8.04   16.33   \n",
       "NO2      616699.0   28.871505   28.980321  0.01  10.85   20.38   36.42   \n",
       "NOx      609997.0   32.288461   39.452857  0.00  10.73   20.90   37.28   \n",
       "NH3      454536.0   23.602700   28.705890  0.01   8.14   15.39   29.27   \n",
       "CO       648830.0    2.186294   10.830938  0.00   0.42    0.81    1.37   \n",
       "SO2      603179.0   14.059323   19.257355  0.01   4.91    8.40   14.80   \n",
       "O3       604176.0   34.785994   29.509072  0.01  13.65   26.48   47.50   \n",
       "Benzene  568137.0    3.095727   16.429980  0.00   0.06    0.87    2.77   \n",
       "Toluene  508758.0    8.662618   21.669094  0.00   0.37    2.61    8.44   \n",
       "Xylene   263468.0    3.127918    7.775396  0.00   0.10    0.80    3.14   \n",
       "AQI      603645.0  166.415562  161.287129  8.00  79.00  116.00  208.00   \n",
       "\n",
       "             max  \n",
       "PM2.5     999.99  \n",
       "PM10     1000.00  \n",
       "NO        499.99  \n",
       "NO2       499.51  \n",
       "NOx       498.61  \n",
       "NH3       499.97  \n",
       "CO        498.57  \n",
       "SO2       199.96  \n",
       "O3        497.62  \n",
       "Benzene   498.07  \n",
       "Toluene   499.40  \n",
       "Xylene    499.99  \n",
       "AQI      3133.00  "
      ]
     },
     "execution_count": 7,
     "metadata": {},
     "output_type": "execute_result"
    }
   ],
   "source": [
    "# Descritive statistice\n",
    "df.describe().transpose()"
   ]
  },
  {
   "cell_type": "code",
   "execution_count": 24,
   "metadata": {},
   "outputs": [
    {
     "data": {
      "text/html": [
       "<div>\n",
       "<style scoped>\n",
       "    .dataframe tbody tr th:only-of-type {\n",
       "        vertical-align: middle;\n",
       "    }\n",
       "\n",
       "    .dataframe tbody tr th {\n",
       "        vertical-align: top;\n",
       "    }\n",
       "\n",
       "    .dataframe thead th {\n",
       "        text-align: right;\n",
       "    }\n",
       "</style>\n",
       "<table border=\"1\" class=\"dataframe\">\n",
       "  <thead>\n",
       "    <tr style=\"text-align: right;\">\n",
       "      <th></th>\n",
       "      <th>count</th>\n",
       "      <th>unique</th>\n",
       "      <th>top</th>\n",
       "      <th>freq</th>\n",
       "    </tr>\n",
       "  </thead>\n",
       "  <tbody>\n",
       "    <tr>\n",
       "      <th>City</th>\n",
       "      <td>737406</td>\n",
       "      <td>26</td>\n",
       "      <td>Ahmedabad</td>\n",
       "      <td>50201</td>\n",
       "    </tr>\n",
       "    <tr>\n",
       "      <th>Datetime</th>\n",
       "      <td>737406</td>\n",
       "      <td>50201</td>\n",
       "      <td>2020-07-01</td>\n",
       "      <td>26</td>\n",
       "    </tr>\n",
       "    <tr>\n",
       "      <th>AQI_Bucket</th>\n",
       "      <td>603645</td>\n",
       "      <td>6</td>\n",
       "      <td>Moderate</td>\n",
       "      <td>207820</td>\n",
       "    </tr>\n",
       "  </tbody>\n",
       "</table>\n",
       "</div>"
      ],
      "text/plain": [
       "             count unique         top    freq\n",
       "City        737406     26   Ahmedabad   50201\n",
       "Datetime    737406  50201  2020-07-01      26\n",
       "AQI_Bucket  603645      6    Moderate  207820"
      ]
     },
     "execution_count": 24,
     "metadata": {},
     "output_type": "execute_result"
    }
   ],
   "source": [
    "# Descritive statistice\n",
    "df.describe(include=\"object\").transpose()"
   ]
  },
  {
   "cell_type": "markdown",
   "metadata": {},
   "source": [
    "-- Central Tendency: This term refers to values located at the data's central position or middle zone.<br>\n",
    "The three generally estimated parameters of central tendency are mean, median, and mode.<br>\n",
    "-- Mean is the average of all values in data.<br>\n",
    "-- While the mode is the values that occurs the maximum number of times.<br>\n",
    "-- The Medain is the middle value with equal observations to its left and right.\n",
    "\n"
   ]
  },
  {
   "cell_type": "markdown",
   "metadata": {},
   "source": [
    "### From above observation\n",
    "* AQI has highest mean with maximum value 3133 and minimum value 8. \n",
    "* CO has lowest mean with maximum value 498.57 and minimum value 0.\n",
    "* PM10 has 119.03 mean with maximum value 1000 and minimum value 0.01.\n",
    "* PM2.5 has 67.61 mean with maximum value 999.99 and minimum vale 0.01. \n",
    "* Moderate has highest frequency with 207820 in AQI_Bucket column <br>\n",
    "So on\n"
   ]
  },
  {
   "cell_type": "markdown",
   "metadata": {},
   "source": [
    "# 6. Data Skewness\n",
    "Question: How is the data distributed are skewed?<br>\n",
    "Approach: Check skewness of data using skew().<br>\n",
    "-- skew() return skew value pf numerical features."
   ]
  },
  {
   "cell_type": "code",
   "execution_count": 20,
   "metadata": {},
   "outputs": [],
   "source": [
    "numerical_features = ['PM2.5', 'PM10', 'NO', 'NO2', 'NOx', 'NH3', 'CO',\n",
    "       'SO2', 'O3', 'Benzene', 'Toluene', 'Xylene', 'AQI']"
   ]
  },
  {
   "cell_type": "code",
   "execution_count": 23,
   "metadata": {},
   "outputs": [
    {
     "data": {
      "text/plain": [
       "PM2.5       4.283556\n",
       "PM10        2.498362\n",
       "NO          5.383978\n",
       "NO2         3.326041\n",
       "NOx         3.672102\n",
       "NH3         5.212583\n",
       "CO         20.851482\n",
       "SO2         4.424654\n",
       "O3          1.694459\n",
       "Benzene    22.468028\n",
       "Toluene    11.504695\n",
       "Xylene     13.586556\n",
       "AQI         6.305913\n",
       "dtype: float64"
      ]
     },
     "execution_count": 23,
     "metadata": {},
     "output_type": "execute_result"
    }
   ],
   "source": [
    "# checking the skew of numerical features\n",
    "df[numerical_features].skew()"
   ]
  },
  {
   "cell_type": "markdown",
   "metadata": {},
   "source": [
    "# From above observation\n",
    "* All the columns has positively skewed distribution that means mean is greater than medain in each columns"
   ]
  },
  {
   "cell_type": "markdown",
   "metadata": {},
   "source": [
    "# 7. Duplicated Data\n",
    "Question: Are there duplicate value?<br>\n",
    "Approach: Identify duplicate using duplicated().<br>\n",
    "-- duplicated().sum() counts the number of duplicate rows."
   ]
  },
  {
   "cell_type": "code",
   "execution_count": 12,
   "metadata": {},
   "outputs": [
    {
     "data": {
      "text/plain": [
       "0"
      ]
     },
     "execution_count": 12,
     "metadata": {},
     "output_type": "execute_result"
    }
   ],
   "source": [
    "# checking duplicated value\n",
    "df.duplicated().sum()"
   ]
  },
  {
   "cell_type": "markdown",
   "metadata": {},
   "source": [
    "# From above observation\n",
    "* There is no any duplicated value in this dataset."
   ]
  },
  {
   "cell_type": "markdown",
   "metadata": {},
   "source": [
    "# 8. Correlation Analysis\n",
    "Question: How are different columns related to each other? <br>\n",
    "Approach: Examine the correlation matrix and visualize it if needed.<br>\n",
    "-- cor() calculate the correlation matrix\n",
    "-- heatmap() visualize the correlation matrix"
   ]
  },
  {
   "cell_type": "code",
   "execution_count": 26,
   "metadata": {},
   "outputs": [
    {
     "data": {
      "text/html": [
       "<div>\n",
       "<style scoped>\n",
       "    .dataframe tbody tr th:only-of-type {\n",
       "        vertical-align: middle;\n",
       "    }\n",
       "\n",
       "    .dataframe tbody tr th {\n",
       "        vertical-align: top;\n",
       "    }\n",
       "\n",
       "    .dataframe thead th {\n",
       "        text-align: right;\n",
       "    }\n",
       "</style>\n",
       "<table border=\"1\" class=\"dataframe\">\n",
       "  <thead>\n",
       "    <tr style=\"text-align: right;\">\n",
       "      <th></th>\n",
       "      <th>PM2.5</th>\n",
       "      <th>PM10</th>\n",
       "      <th>NO</th>\n",
       "      <th>NO2</th>\n",
       "      <th>NOx</th>\n",
       "      <th>NH3</th>\n",
       "      <th>CO</th>\n",
       "      <th>SO2</th>\n",
       "      <th>O3</th>\n",
       "      <th>Benzene</th>\n",
       "      <th>Toluene</th>\n",
       "      <th>Xylene</th>\n",
       "      <th>AQI</th>\n",
       "    </tr>\n",
       "  </thead>\n",
       "  <tbody>\n",
       "    <tr>\n",
       "      <th>PM2.5</th>\n",
       "      <td>1.000000</td>\n",
       "      <td>0.810258</td>\n",
       "      <td>0.372490</td>\n",
       "      <td>0.304860</td>\n",
       "      <td>0.387089</td>\n",
       "      <td>0.244341</td>\n",
       "      <td>0.082974</td>\n",
       "      <td>0.125238</td>\n",
       "      <td>0.050387</td>\n",
       "      <td>0.033784</td>\n",
       "      <td>0.128167</td>\n",
       "      <td>0.117414</td>\n",
       "      <td>0.507057</td>\n",
       "    </tr>\n",
       "    <tr>\n",
       "      <th>PM10</th>\n",
       "      <td>0.810258</td>\n",
       "      <td>1.000000</td>\n",
       "      <td>0.441263</td>\n",
       "      <td>0.431134</td>\n",
       "      <td>0.482848</td>\n",
       "      <td>0.344766</td>\n",
       "      <td>0.101421</td>\n",
       "      <td>0.232386</td>\n",
       "      <td>0.117720</td>\n",
       "      <td>0.034877</td>\n",
       "      <td>0.185583</td>\n",
       "      <td>0.100302</td>\n",
       "      <td>0.673837</td>\n",
       "    </tr>\n",
       "    <tr>\n",
       "      <th>NO</th>\n",
       "      <td>0.372490</td>\n",
       "      <td>0.441263</td>\n",
       "      <td>1.000000</td>\n",
       "      <td>0.435492</td>\n",
       "      <td>0.802005</td>\n",
       "      <td>0.170527</td>\n",
       "      <td>0.318198</td>\n",
       "      <td>0.131319</td>\n",
       "      <td>-0.103012</td>\n",
       "      <td>0.071242</td>\n",
       "      <td>0.193959</td>\n",
       "      <td>0.152372</td>\n",
       "      <td>0.346359</td>\n",
       "    </tr>\n",
       "    <tr>\n",
       "      <th>NO2</th>\n",
       "      <td>0.304860</td>\n",
       "      <td>0.431134</td>\n",
       "      <td>0.435492</td>\n",
       "      <td>1.000000</td>\n",
       "      <td>0.618809</td>\n",
       "      <td>0.217349</td>\n",
       "      <td>0.271829</td>\n",
       "      <td>0.307913</td>\n",
       "      <td>0.065800</td>\n",
       "      <td>0.050680</td>\n",
       "      <td>0.273605</td>\n",
       "      <td>0.189917</td>\n",
       "      <td>0.432101</td>\n",
       "    </tr>\n",
       "    <tr>\n",
       "      <th>NOx</th>\n",
       "      <td>0.387089</td>\n",
       "      <td>0.482848</td>\n",
       "      <td>0.802005</td>\n",
       "      <td>0.618809</td>\n",
       "      <td>1.000000</td>\n",
       "      <td>0.161921</td>\n",
       "      <td>0.277771</td>\n",
       "      <td>0.181156</td>\n",
       "      <td>-0.072262</td>\n",
       "      <td>0.073887</td>\n",
       "      <td>0.227904</td>\n",
       "      <td>0.150213</td>\n",
       "      <td>0.389159</td>\n",
       "    </tr>\n",
       "    <tr>\n",
       "      <th>NH3</th>\n",
       "      <td>0.244341</td>\n",
       "      <td>0.344766</td>\n",
       "      <td>0.170527</td>\n",
       "      <td>0.217349</td>\n",
       "      <td>0.161921</td>\n",
       "      <td>1.000000</td>\n",
       "      <td>0.108077</td>\n",
       "      <td>-0.011395</td>\n",
       "      <td>0.050083</td>\n",
       "      <td>-0.007835</td>\n",
       "      <td>0.024173</td>\n",
       "      <td>-0.009343</td>\n",
       "      <td>0.228341</td>\n",
       "    </tr>\n",
       "    <tr>\n",
       "      <th>CO</th>\n",
       "      <td>0.082974</td>\n",
       "      <td>0.101421</td>\n",
       "      <td>0.318198</td>\n",
       "      <td>0.271829</td>\n",
       "      <td>0.277771</td>\n",
       "      <td>0.108077</td>\n",
       "      <td>1.000000</td>\n",
       "      <td>0.284842</td>\n",
       "      <td>-0.047227</td>\n",
       "      <td>0.068327</td>\n",
       "      <td>0.244104</td>\n",
       "      <td>0.171420</td>\n",
       "      <td>0.581982</td>\n",
       "    </tr>\n",
       "    <tr>\n",
       "      <th>SO2</th>\n",
       "      <td>0.125238</td>\n",
       "      <td>0.232386</td>\n",
       "      <td>0.131319</td>\n",
       "      <td>0.307913</td>\n",
       "      <td>0.181156</td>\n",
       "      <td>-0.011395</td>\n",
       "      <td>0.284842</td>\n",
       "      <td>1.000000</td>\n",
       "      <td>0.102724</td>\n",
       "      <td>0.029420</td>\n",
       "      <td>0.244753</td>\n",
       "      <td>0.190131</td>\n",
       "      <td>0.386519</td>\n",
       "    </tr>\n",
       "    <tr>\n",
       "      <th>O3</th>\n",
       "      <td>0.050387</td>\n",
       "      <td>0.117720</td>\n",
       "      <td>-0.103012</td>\n",
       "      <td>0.065800</td>\n",
       "      <td>-0.072262</td>\n",
       "      <td>0.050083</td>\n",
       "      <td>-0.047227</td>\n",
       "      <td>0.102724</td>\n",
       "      <td>1.000000</td>\n",
       "      <td>-0.008716</td>\n",
       "      <td>0.036752</td>\n",
       "      <td>-0.006909</td>\n",
       "      <td>0.095725</td>\n",
       "    </tr>\n",
       "    <tr>\n",
       "      <th>Benzene</th>\n",
       "      <td>0.033784</td>\n",
       "      <td>0.034877</td>\n",
       "      <td>0.071242</td>\n",
       "      <td>0.050680</td>\n",
       "      <td>0.073887</td>\n",
       "      <td>-0.007835</td>\n",
       "      <td>0.068327</td>\n",
       "      <td>0.029420</td>\n",
       "      <td>-0.008716</td>\n",
       "      <td>1.000000</td>\n",
       "      <td>0.753803</td>\n",
       "      <td>0.407166</td>\n",
       "      <td>0.053499</td>\n",
       "    </tr>\n",
       "    <tr>\n",
       "      <th>Toluene</th>\n",
       "      <td>0.128167</td>\n",
       "      <td>0.185583</td>\n",
       "      <td>0.193959</td>\n",
       "      <td>0.273605</td>\n",
       "      <td>0.227904</td>\n",
       "      <td>0.024173</td>\n",
       "      <td>0.244104</td>\n",
       "      <td>0.244753</td>\n",
       "      <td>0.036752</td>\n",
       "      <td>0.753803</td>\n",
       "      <td>1.000000</td>\n",
       "      <td>0.429239</td>\n",
       "      <td>0.262089</td>\n",
       "    </tr>\n",
       "    <tr>\n",
       "      <th>Xylene</th>\n",
       "      <td>0.117414</td>\n",
       "      <td>0.100302</td>\n",
       "      <td>0.152372</td>\n",
       "      <td>0.189917</td>\n",
       "      <td>0.150213</td>\n",
       "      <td>-0.009343</td>\n",
       "      <td>0.171420</td>\n",
       "      <td>0.190131</td>\n",
       "      <td>-0.006909</td>\n",
       "      <td>0.407166</td>\n",
       "      <td>0.429239</td>\n",
       "      <td>1.000000</td>\n",
       "      <td>0.157253</td>\n",
       "    </tr>\n",
       "    <tr>\n",
       "      <th>AQI</th>\n",
       "      <td>0.507057</td>\n",
       "      <td>0.673837</td>\n",
       "      <td>0.346359</td>\n",
       "      <td>0.432101</td>\n",
       "      <td>0.389159</td>\n",
       "      <td>0.228341</td>\n",
       "      <td>0.581982</td>\n",
       "      <td>0.386519</td>\n",
       "      <td>0.095725</td>\n",
       "      <td>0.053499</td>\n",
       "      <td>0.262089</td>\n",
       "      <td>0.157253</td>\n",
       "      <td>1.000000</td>\n",
       "    </tr>\n",
       "  </tbody>\n",
       "</table>\n",
       "</div>"
      ],
      "text/plain": [
       "            PM2.5      PM10        NO       NO2       NOx       NH3        CO  \\\n",
       "PM2.5    1.000000  0.810258  0.372490  0.304860  0.387089  0.244341  0.082974   \n",
       "PM10     0.810258  1.000000  0.441263  0.431134  0.482848  0.344766  0.101421   \n",
       "NO       0.372490  0.441263  1.000000  0.435492  0.802005  0.170527  0.318198   \n",
       "NO2      0.304860  0.431134  0.435492  1.000000  0.618809  0.217349  0.271829   \n",
       "NOx      0.387089  0.482848  0.802005  0.618809  1.000000  0.161921  0.277771   \n",
       "NH3      0.244341  0.344766  0.170527  0.217349  0.161921  1.000000  0.108077   \n",
       "CO       0.082974  0.101421  0.318198  0.271829  0.277771  0.108077  1.000000   \n",
       "SO2      0.125238  0.232386  0.131319  0.307913  0.181156 -0.011395  0.284842   \n",
       "O3       0.050387  0.117720 -0.103012  0.065800 -0.072262  0.050083 -0.047227   \n",
       "Benzene  0.033784  0.034877  0.071242  0.050680  0.073887 -0.007835  0.068327   \n",
       "Toluene  0.128167  0.185583  0.193959  0.273605  0.227904  0.024173  0.244104   \n",
       "Xylene   0.117414  0.100302  0.152372  0.189917  0.150213 -0.009343  0.171420   \n",
       "AQI      0.507057  0.673837  0.346359  0.432101  0.389159  0.228341  0.581982   \n",
       "\n",
       "              SO2        O3   Benzene   Toluene    Xylene       AQI  \n",
       "PM2.5    0.125238  0.050387  0.033784  0.128167  0.117414  0.507057  \n",
       "PM10     0.232386  0.117720  0.034877  0.185583  0.100302  0.673837  \n",
       "NO       0.131319 -0.103012  0.071242  0.193959  0.152372  0.346359  \n",
       "NO2      0.307913  0.065800  0.050680  0.273605  0.189917  0.432101  \n",
       "NOx      0.181156 -0.072262  0.073887  0.227904  0.150213  0.389159  \n",
       "NH3     -0.011395  0.050083 -0.007835  0.024173 -0.009343  0.228341  \n",
       "CO       0.284842 -0.047227  0.068327  0.244104  0.171420  0.581982  \n",
       "SO2      1.000000  0.102724  0.029420  0.244753  0.190131  0.386519  \n",
       "O3       0.102724  1.000000 -0.008716  0.036752 -0.006909  0.095725  \n",
       "Benzene  0.029420 -0.008716  1.000000  0.753803  0.407166  0.053499  \n",
       "Toluene  0.244753  0.036752  0.753803  1.000000  0.429239  0.262089  \n",
       "Xylene   0.190131 -0.006909  0.407166  0.429239  1.000000  0.157253  \n",
       "AQI      0.386519  0.095725  0.053499  0.262089  0.157253  1.000000  "
      ]
     },
     "execution_count": 26,
     "metadata": {},
     "output_type": "execute_result"
    }
   ],
   "source": [
    "# calculating the correlation\n",
    "df.corr(numeric_only=True)"
   ]
  },
  {
   "cell_type": "code",
   "execution_count": 30,
   "metadata": {},
   "outputs": [
    {
     "data": {
      "text/plain": [
       "<Axes: >"
      ]
     },
     "execution_count": 30,
     "metadata": {},
     "output_type": "execute_result"
    },
    {
     "data": {
      "image/png": "[encoded data removed]",
      "text/plain": [
       "<Figure size 1000x1000 with 2 Axes>"
      ]
     },
     "metadata": {},
     "output_type": "display_data"
    }
   ],
   "source": [
    "plt.figure(figsize=(10,10))\n",
    "sns.heatmap(df.corr(numeric_only=True), annot=True)"
   ]
  },
  {
   "cell_type": "markdown",
   "metadata": {},
   "source": [
    "### From above correlation matrix\n",
    "* Most of the columns are positively correlated with each other"
   ]
  },
  {
   "cell_type": "markdown",
   "metadata": {},
   "source": [
    "# 9. Exploring Diversity\n",
    "Question: How may unique value are there in a specific column?<br>\n",
    "Approach: Use nunique() methods to find the number of unique values in a particular column.<br>\n",
    "-- nunique() method returns the number of unique values for each columns."
   ]
  },
  {
   "cell_type": "code",
   "execution_count": 31,
   "metadata": {},
   "outputs": [
    {
     "data": {
      "text/plain": [
       "6"
      ]
     },
     "execution_count": 31,
     "metadata": {},
     "output_type": "execute_result"
    }
   ],
   "source": [
    "#  Checking the unique values in columns AQI_Bucket\n",
    "df[\"AQI_Bucket\"].nunique()"
   ]
  },
  {
   "cell_type": "markdown",
   "metadata": {},
   "source": [
    "### From above observation\n",
    "* AQI_Bucket column has total 6 unique values."
   ]
  },
  {
   "cell_type": "markdown",
   "metadata": {},
   "source": []
  }
 ],
 "metadata": {
  "kernelspec": {
   "display_name": "myenv",
   "language": "python",
   "name": "python3"
  },
  "language_info": {
   "codemirror_mode": {
    "name": "ipython",
    "version": 3
   },
   "file_extension": ".py",
   "mimetype": "text/x-python",
   "name": "python",
   "nbconvert_exporter": "python",
   "pygments_lexer": "ipython3",
   "version": "3.11.1"
  }
 },
 "nbformat": 4,
 "nbformat_minor": 2
}
